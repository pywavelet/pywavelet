{
 "cells": [
  {
   "metadata": {},
   "cell_type": "markdown",
   "source": [
    "<a target=\"_blank\" href=\"https://colab.research.google.com/github/pywavelet/pywavelet/blob/main/docs/runtime.ipynb\">\n",
    "  <img src=\"https://colab.research.google.com/assets/colab-badge.svg\" alt=\"Open In Colab\"/>\n",
    "</a>\n",
    "\n",
    "\n",
    "# Runtime Comparisons"
   ],
   "id": "9df79fd10b46e463"
  },
  {
   "cell_type": "code",
   "id": "initial_id",
   "metadata": {
    "collapsed": true,
    "ExecuteTime": {
     "end_time": "2025-03-24T03:32:15.948424Z",
     "start_time": "2025-03-24T03:32:12.808210Z"
    }
   },
   "source": [
    "import importlib\n",
    "import numpy as np\n",
    "import jax.numpy as jnp\n",
    "from tqdm.auto import tqdm\n",
    "from pywavelet.types import FrequencySeries\n",
    "from pywavelet.transforms.phi_computer import phitilde_vec_norm\n",
    "from timeit import repeat as timing_repeat\n",
    "\n",
    "\n",
    "\n",
    "cupy_available = importlib.util.find_spec(\"cupy\") is not None\n",
    "\n",
    "if cupy_available:\n",
    "    import cupy as cp\n",
    "    \n",
    "\n",
    "def generate_freq_domain_signal(\n",
    "        ND, f0=20.0, dt=0.0125, A=2\n",
    ") -> FrequencySeries:\n",
    "    \"\"\"\n",
    "    Generates a frequency domain signal.\n",
    "\n",
    "    Parameters:\n",
    "    ND (int): Number of data points.\n",
    "    f0 (float): Frequency of the signal. Default is 20.0.\n",
    "    dt (float): Time step. Default is 0.0125.\n",
    "    A (float): Amplitude of the signal. Default is 2.\n",
    "\n",
    "    Returns:\n",
    "    FrequencySeries: The generated frequency domain signal.\n",
    "    \"\"\"\n",
    "    ts = np.arange(0, ND) * dt\n",
    "    y = A * np.sin(2 * np.pi * f0 * ts)\n",
    "    yf = FrequencySeries(y, ts)\n",
    "    return yf\n",
    "\n",
    "\n",
    "def generate_func_args(ND, backend=\"numpy\"):\n",
    "    Nt = int(np.log2(ND))\n",
    "    Nf = ND // Nt\n",
    "    yf = generate_freq_domain_signal(ND).data\n",
    "    phif = phitilde_vec_norm(Nf, Nt, d=4.0)\n",
    "    if backend == \"jax\":\n",
    "        yf = jnp.array(yf)\n",
    "        phif = jnp.array(phif)\n",
    "    if backend == \"cupy\" and cupy_available:\n",
    "        yf = cp.array(yf)\n",
    "        phif = cp.array(phif)\n",
    "    return yf, Nf, Nt, phif\n",
    "\n",
    "\n",
    "def collect_runtime(\n",
    "        func, func_args, n=5, nreps=5\n",
    "):\n",
    "    func(*func_args)  # Warm up run\n",
    "    times = timing_repeat(\n",
    "        lambda: func(*func_args),\n",
    "        number=n,\n",
    "        repeat=nreps\n",
    "    )\n",
    "    \n",
    "    \n",
    "    return (np.median(times), (np.std(times)))\n",
    "\n",
    "\n",
    "\n",
    "def collect_runtimes(func, backend, ND_values, number=5, repeat=5):\n",
    "    results = {}\n",
    "    bar = tqdm(ND_values, desc=\"Running\")\n",
    "    for ND in bar:\n",
    "        bar.set_postfix(ND=f\"2**{int(np.log2(ND))}\")\n",
    "        func_args = generate_func_args(ND, backend)\n",
    "        results[ND] = collect_runtime(func, func_args, number, repeat)\n",
    "    return results\n",
    "\n",
    "\n",
    "\n"
   ],
   "outputs": [
    {
     "name": "stderr",
     "output_type": "stream",
     "text": [
      "/Users/avaj0001/miniforge3/envs/pywavelet/lib/python3.10/site-packages/tqdm/auto.py:21: TqdmWarning: IProgress not found. Please update jupyter and ipywidgets. See https://ipywidgets.readthedocs.io/en/stable/user_install.html\n",
      "  from .autonotebook import tqdm as notebook_tqdm\n"
     ]
    },
    {
     "data": {
      "text/plain": [
       "\u001B[2;36m[16:32:13]\u001B[0m\u001B[2;36m \u001B[0m\u001B[34mINFO    \u001B[0m Using NumPy+Numba backend                                                         \u001B]8;id=716699;file:///Users/avaj0001/Documents/projects/pywavelet/package/src/pywavelet/backend.py\u001B\\\u001B[2mbackend.py\u001B[0m\u001B]8;;\u001B\\\u001B[2m:\u001B[0m\u001B]8;id=575685;file:///Users/avaj0001/Documents/projects/pywavelet/package/src/pywavelet/backend.py#46\u001B\\\u001B[2m46\u001B[0m\u001B]8;;\u001B\\\n"
      ],
      "text/html": [
       "<pre style=\"white-space:pre;overflow-x:auto;line-height:normal;font-family:Menlo,'DejaVu Sans Mono',consolas,'Courier New',monospace\"><span style=\"color: #7fbfbf; text-decoration-color: #7fbfbf\">[16:32:13] </span><span style=\"color: #000080; text-decoration-color: #000080\">INFO    </span> Using NumPy+Numba backend                                                         <a href=\"file:///Users/avaj0001/Documents/projects/pywavelet/package/src/pywavelet/backend.py\" target=\"_blank\"><span style=\"color: #7f7f7f; text-decoration-color: #7f7f7f\">backend.py</span></a><span style=\"color: #7f7f7f; text-decoration-color: #7f7f7f\">:</span><a href=\"file:///Users/avaj0001/Documents/projects/pywavelet/package/src/pywavelet/backend.py#46\" target=\"_blank\"><span style=\"color: #7f7f7f; text-decoration-color: #7f7f7f\">46</span></a>\n",
       "</pre>\n"
      ]
     },
     "metadata": {},
     "output_type": "display_data"
    }
   ],
   "execution_count": 1
  },
  {
   "metadata": {
    "jupyter": {
     "is_executing": true
    },
    "ExecuteTime": {
     "start_time": "2025-03-24T03:32:15.969565Z"
    }
   },
   "cell_type": "code",
   "source": [
    "from pywavelet.transforms.numpy.forward.from_freq import (\n",
    "    transform_wavelet_freq_helper,\n",
    ")\n",
    "\n",
    "ND = [2 ** i for i in range(4, 15)]\n",
    "numpy_runtimes = collect_runtimes(\n",
    "    transform_wavelet_freq_helper, \"numpy\", ND, number=5, repeat=5\n",
    ")\n"
   ],
   "id": "b24117c0eeeb6ed2",
   "outputs": [
    {
     "name": "stderr",
     "output_type": "stream",
     "text": [
      "Running:   9%|▉         | 1/11 [00:03<00:39,  3.93s/it, ND=2**6]"
     ]
    }
   ],
   "execution_count": null
  },
  {
   "metadata": {
    "ExecuteTime": {
     "start_time": "2025-03-24T03:31:45.366256Z"
    }
   },
   "cell_type": "code",
   "source": [
    "from pywavelet.transforms.jax.forward.from_freq import (\n",
    "    transform_wavelet_freq_helper,\n",
    ")\n",
    "jax_runtimes = collect_runtimes(\n",
    "    transform_wavelet_freq_helper, \"jax\", ND, number=5, repeat=5\n",
    ")\n"
   ],
   "id": "b3f4750383c9ad60",
   "outputs": [
    {
     "data": {
      "text/plain": [
       "\u001B[2;36m[16:31:45]\u001B[0m\u001B[2;36m \u001B[0m\u001B[33mWARNING \u001B[0m JAX SUBPACKAGE NOT FULLY TESTED                                                   \u001B]8;id=895104;file:///Users/avaj0001/Documents/projects/pywavelet/package/src/pywavelet/transforms/jax/__init__.py\u001B\\\u001B[2m__init__.py\u001B[0m\u001B]8;;\u001B\\\u001B[2m:\u001B[0m\u001B]8;id=393910;file:///Users/avaj0001/Documents/projects/pywavelet/package/src/pywavelet/transforms/jax/__init__.py#5\u001B\\\u001B[2m5\u001B[0m\u001B]8;;\u001B\\\n"
      ],
      "text/html": [
       "<pre style=\"white-space:pre;overflow-x:auto;line-height:normal;font-family:Menlo,'DejaVu Sans Mono',consolas,'Courier New',monospace\"><span style=\"color: #7fbfbf; text-decoration-color: #7fbfbf\">[16:31:45] </span><span style=\"color: #808000; text-decoration-color: #808000\">WARNING </span> JAX SUBPACKAGE NOT FULLY TESTED                                                   <a href=\"file:///Users/avaj0001/Documents/projects/pywavelet/package/src/pywavelet/transforms/jax/__init__.py\" target=\"_blank\"><span style=\"color: #7f7f7f; text-decoration-color: #7f7f7f\">__init__.py</span></a><span style=\"color: #7f7f7f; text-decoration-color: #7f7f7f\">:</span><a href=\"file:///Users/avaj0001/Documents/projects/pywavelet/package/src/pywavelet/transforms/jax/__init__.py#5\" target=\"_blank\"><span style=\"color: #7f7f7f; text-decoration-color: #7f7f7f\">5</span></a>\n",
       "</pre>\n"
      ]
     },
     "metadata": {},
     "output_type": "display_data"
    },
    {
     "name": "stderr",
     "output_type": "stream",
     "text": [
      "Running:   0%|          | 0/13 [00:00<?, ?it/s, ND=2**2]INFO:2025-03-24 16:31:45,464:jax._src.xla_bridge:927: Unable to initialize backend 'rocm': module 'jaxlib.xla_extension' has no attribute 'GpuAllocatorConfig'\n"
     ]
    },
    {
     "data": {
      "text/plain": [
       "\u001B[2;36m          \u001B[0m\u001B[2;36m \u001B[0m\u001B[34mINFO    \u001B[0m Unable to initialize backend \u001B[32m'rocm'\u001B[0m: module \u001B[32m'jaxlib.xla_extension'\u001B[0m has no     \u001B]8;id=975372;file:///Users/avaj0001/miniforge3/envs/pywavelet/lib/python3.10/site-packages/jax/_src/xla_bridge.py\u001B\\\u001B[2mxla_bridge.py\u001B[0m\u001B]8;;\u001B\\\u001B[2m:\u001B[0m\u001B]8;id=529576;file:///Users/avaj0001/miniforge3/envs/pywavelet/lib/python3.10/site-packages/jax/_src/xla_bridge.py#927\u001B\\\u001B[2m927\u001B[0m\u001B]8;;\u001B\\\n",
       "\u001B[2;36m           \u001B[0m         attribute \u001B[32m'GpuAllocatorConfig'\u001B[0m                                                \u001B[2m                 \u001B[0m\n"
      ],
      "text/html": [
       "<pre style=\"white-space:pre;overflow-x:auto;line-height:normal;font-family:Menlo,'DejaVu Sans Mono',consolas,'Courier New',monospace\"><span style=\"color: #7fbfbf; text-decoration-color: #7fbfbf\">           </span><span style=\"color: #000080; text-decoration-color: #000080\">INFO    </span> Unable to initialize backend <span style=\"color: #008000; text-decoration-color: #008000\">'rocm'</span>: module <span style=\"color: #008000; text-decoration-color: #008000\">'jaxlib.xla_extension'</span> has no     <a href=\"file:///Users/avaj0001/miniforge3/envs/pywavelet/lib/python3.10/site-packages/jax/_src/xla_bridge.py\" target=\"_blank\"><span style=\"color: #7f7f7f; text-decoration-color: #7f7f7f\">xla_bridge.py</span></a><span style=\"color: #7f7f7f; text-decoration-color: #7f7f7f\">:</span><a href=\"file:///Users/avaj0001/miniforge3/envs/pywavelet/lib/python3.10/site-packages/jax/_src/xla_bridge.py#927\" target=\"_blank\"><span style=\"color: #7f7f7f; text-decoration-color: #7f7f7f\">927</span></a>\n",
       "<span style=\"color: #7fbfbf; text-decoration-color: #7fbfbf\">           </span>         attribute <span style=\"color: #008000; text-decoration-color: #008000\">'GpuAllocatorConfig'</span>                                                <span style=\"color: #7f7f7f; text-decoration-color: #7f7f7f\">                 </span>\n",
       "</pre>\n"
      ]
     },
     "metadata": {},
     "output_type": "display_data"
    },
    {
     "name": "stderr",
     "output_type": "stream",
     "text": [
      "INFO:2025-03-24 16:31:45,471:jax._src.xla_bridge:927: Unable to initialize backend 'tpu': INTERNAL: Failed to open libtpu.so: dlopen(libtpu.so, 0x0001): tried: 'libtpu.so' (no such file), '/System/Volumes/Preboot/Cryptexes/OSlibtpu.so' (no such file), '/Users/avaj0001/miniforge3/envs/pywavelet/bin/../lib/libtpu.so' (no such file), '/usr/lib/libtpu.so' (no such file, not in dyld cache), 'libtpu.so' (no such file), '/usr/local/lib/libtpu.so' (no such file), '/usr/lib/libtpu.so' (no such file, not in dyld cache)\n"
     ]
    },
    {
     "data": {
      "text/plain": [
       "\u001B[2;36m          \u001B[0m\u001B[2;36m \u001B[0m\u001B[34mINFO    \u001B[0m Unable to initialize backend \u001B[32m'tpu'\u001B[0m: INTERNAL: Failed to open libtpu.so:       \u001B]8;id=504173;file:///Users/avaj0001/miniforge3/envs/pywavelet/lib/python3.10/site-packages/jax/_src/xla_bridge.py\u001B\\\u001B[2mxla_bridge.py\u001B[0m\u001B]8;;\u001B\\\u001B[2m:\u001B[0m\u001B]8;id=637925;file:///Users/avaj0001/miniforge3/envs/pywavelet/lib/python3.10/site-packages/jax/_src/xla_bridge.py#927\u001B\\\u001B[2m927\u001B[0m\u001B]8;;\u001B\\\n",
       "\u001B[2;36m           \u001B[0m         \u001B[1;35mdlopen\u001B[0m\u001B[1m(\u001B[0mlibtpu.so, \u001B[1;36m0x0001\u001B[0m\u001B[1m)\u001B[0m: tried: \u001B[32m'libtpu.so'\u001B[0m \u001B[1m(\u001B[0mno such file\u001B[1m)\u001B[0m,                 \u001B[2m                 \u001B[0m\n",
       "\u001B[2;36m           \u001B[0m         \u001B[32m'/System/Volumes/Preboot/Cryptexes/OSlibtpu.so'\u001B[0m \u001B[1m(\u001B[0mno such file\u001B[1m)\u001B[0m,               \u001B[2m                 \u001B[0m\n",
       "\u001B[2;36m           \u001B[0m         \u001B[32m'/Users/avaj0001/miniforge3/envs/pywavelet/bin/../lib/libtpu.so'\u001B[0m \u001B[1m(\u001B[0mno such     \u001B[2m                 \u001B[0m\n",
       "\u001B[2;36m           \u001B[0m         file\u001B[1m)\u001B[0m, \u001B[32m'/usr/lib/libtpu.so'\u001B[0m \u001B[1m(\u001B[0mno such file, not in dyld cache\u001B[1m)\u001B[0m, \u001B[32m'libtpu.so'\u001B[0m    \u001B[2m                 \u001B[0m\n",
       "\u001B[2;36m           \u001B[0m         \u001B[1m(\u001B[0mno such file\u001B[1m)\u001B[0m, \u001B[32m'/usr/local/lib/libtpu.so'\u001B[0m \u001B[1m(\u001B[0mno such file\u001B[1m)\u001B[0m,                    \u001B[2m                 \u001B[0m\n",
       "\u001B[2;36m           \u001B[0m         \u001B[32m'/usr/lib/libtpu.so'\u001B[0m \u001B[1m(\u001B[0mno such file, not in dyld cache\u001B[1m)\u001B[0m                        \u001B[2m                 \u001B[0m\n"
      ],
      "text/html": [
       "<pre style=\"white-space:pre;overflow-x:auto;line-height:normal;font-family:Menlo,'DejaVu Sans Mono',consolas,'Courier New',monospace\"><span style=\"color: #7fbfbf; text-decoration-color: #7fbfbf\">           </span><span style=\"color: #000080; text-decoration-color: #000080\">INFO    </span> Unable to initialize backend <span style=\"color: #008000; text-decoration-color: #008000\">'tpu'</span>: INTERNAL: Failed to open libtpu.so:       <a href=\"file:///Users/avaj0001/miniforge3/envs/pywavelet/lib/python3.10/site-packages/jax/_src/xla_bridge.py\" target=\"_blank\"><span style=\"color: #7f7f7f; text-decoration-color: #7f7f7f\">xla_bridge.py</span></a><span style=\"color: #7f7f7f; text-decoration-color: #7f7f7f\">:</span><a href=\"file:///Users/avaj0001/miniforge3/envs/pywavelet/lib/python3.10/site-packages/jax/_src/xla_bridge.py#927\" target=\"_blank\"><span style=\"color: #7f7f7f; text-decoration-color: #7f7f7f\">927</span></a>\n",
       "<span style=\"color: #7fbfbf; text-decoration-color: #7fbfbf\">           </span>         <span style=\"color: #800080; text-decoration-color: #800080; font-weight: bold\">dlopen</span><span style=\"font-weight: bold\">(</span>libtpu.so, <span style=\"color: #008080; text-decoration-color: #008080; font-weight: bold\">0x0001</span><span style=\"font-weight: bold\">)</span>: tried: <span style=\"color: #008000; text-decoration-color: #008000\">'libtpu.so'</span> <span style=\"font-weight: bold\">(</span>no such file<span style=\"font-weight: bold\">)</span>,                 <span style=\"color: #7f7f7f; text-decoration-color: #7f7f7f\">                 </span>\n",
       "<span style=\"color: #7fbfbf; text-decoration-color: #7fbfbf\">           </span>         <span style=\"color: #008000; text-decoration-color: #008000\">'/System/Volumes/Preboot/Cryptexes/OSlibtpu.so'</span> <span style=\"font-weight: bold\">(</span>no such file<span style=\"font-weight: bold\">)</span>,               <span style=\"color: #7f7f7f; text-decoration-color: #7f7f7f\">                 </span>\n",
       "<span style=\"color: #7fbfbf; text-decoration-color: #7fbfbf\">           </span>         <span style=\"color: #008000; text-decoration-color: #008000\">'/Users/avaj0001/miniforge3/envs/pywavelet/bin/../lib/libtpu.so'</span> <span style=\"font-weight: bold\">(</span>no such     <span style=\"color: #7f7f7f; text-decoration-color: #7f7f7f\">                 </span>\n",
       "<span style=\"color: #7fbfbf; text-decoration-color: #7fbfbf\">           </span>         file<span style=\"font-weight: bold\">)</span>, <span style=\"color: #008000; text-decoration-color: #008000\">'/usr/lib/libtpu.so'</span> <span style=\"font-weight: bold\">(</span>no such file, not in dyld cache<span style=\"font-weight: bold\">)</span>, <span style=\"color: #008000; text-decoration-color: #008000\">'libtpu.so'</span>    <span style=\"color: #7f7f7f; text-decoration-color: #7f7f7f\">                 </span>\n",
       "<span style=\"color: #7fbfbf; text-decoration-color: #7fbfbf\">           </span>         <span style=\"font-weight: bold\">(</span>no such file<span style=\"font-weight: bold\">)</span>, <span style=\"color: #008000; text-decoration-color: #008000\">'/usr/local/lib/libtpu.so'</span> <span style=\"font-weight: bold\">(</span>no such file<span style=\"font-weight: bold\">)</span>,                    <span style=\"color: #7f7f7f; text-decoration-color: #7f7f7f\">                 </span>\n",
       "<span style=\"color: #7fbfbf; text-decoration-color: #7fbfbf\">           </span>         <span style=\"color: #008000; text-decoration-color: #008000\">'/usr/lib/libtpu.so'</span> <span style=\"font-weight: bold\">(</span>no such file, not in dyld cache<span style=\"font-weight: bold\">)</span>                        <span style=\"color: #7f7f7f; text-decoration-color: #7f7f7f\">                 </span>\n",
       "</pre>\n"
      ]
     },
     "metadata": {},
     "output_type": "display_data"
    }
   ],
   "execution_count": null
  },
  {
   "metadata": {},
   "cell_type": "code",
   "outputs": [],
   "execution_count": null,
   "source": [],
   "id": "3182daeca1bf5d20"
  }
 ],
 "metadata": {
  "kernelspec": {
   "display_name": "Python 3",
   "language": "python",
   "name": "python3"
  },
  "language_info": {
   "codemirror_mode": {
    "name": "ipython",
    "version": 2
   },
   "file_extension": ".py",
   "mimetype": "text/x-python",
   "name": "python",
   "nbconvert_exporter": "python",
   "pygments_lexer": "ipython2",
   "version": "2.7.6"
  }
 },
 "nbformat": 4,
 "nbformat_minor": 5
}
