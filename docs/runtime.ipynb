{
 "cells": [
  {
   "metadata": {},
   "cell_type": "markdown",
   "source": [
    "<a target=\"_blank\" href=\"https://colab.research.google.com/github/pywavelet/pywavelet/blob/main/docs/runtime.ipynb\">\n",
    "  <img src=\"https://colab.research.google.com/assets/colab-badge.svg\" alt=\"Open In Colab\"/>\n",
    "</a>\n",
    "\n",
    "\n",
    "# Runtime Comparisons"
   ],
   "id": "9df79fd10b46e463"
  },
  {
   "cell_type": "code",
   "id": "initial_id",
   "metadata": {
    "collapsed": true,
    "ExecuteTime": {
     "end_time": "2025-03-24T01:36:18.989328Z",
     "start_time": "2025-03-24T01:36:18.982541Z"
    }
   },
   "source": [
    "import numpy as np\n",
    "from timeit import timeit\n",
    "from pywavelet.types import FrequencySeries\n",
    "\n",
    "\n",
    "def generate_freq_domain_signal(\n",
    "    ND, f0=20.0, dt=0.0125, A=2\n",
    ") -> FrequencySeries:\n",
    "    \"\"\"\n",
    "    Generates a frequency domain signal.\n",
    "\n",
    "    Parameters:\n",
    "    ND (int): Number of data points.\n",
    "    f0 (float): Frequency of the signal. Default is 20.0.\n",
    "    dt (float): Time step. Default is 0.0125.\n",
    "    A (float): Amplitude of the signal. Default is 2.\n",
    "\n",
    "    Returns:\n",
    "    FrequencySeries: The generated frequency domain signal.\n",
    "    \"\"\"\n",
    "    ts = np.arange(0, ND) * dt\n",
    "    y = A * np.sin(2 * np.pi * f0 * ts)\n",
    "    yf = FrequencySeries(y, ts)\n",
    "    return yf"
   ],
   "outputs": [],
   "execution_count": 2
  },
  {
   "metadata": {
    "ExecuteTime": {
     "end_time": "2025-03-24T01:53:19.902824Z",
     "start_time": "2025-03-24T01:53:19.883409Z"
    }
   },
   "cell_type": "code",
   "source": [
    "from pywavelet.transforms.numpy.forward.from_freq import (\n",
    "    transform_wavelet_freq_helper,\n",
    ")\n",
    "from pywavelet.transforms.phi_computer import phitilde_vec_norm\n",
    "from timeit import timeit\n",
    "\n",
    "NF_values = [8, 16, 32, 64, 128]\n",
    "results = {}\n",
    "\n",
    "for Nf in NF_values:\n",
    "\n",
    "    Nt = Nf * 2\n",
    "    ND = Nf * Nt\n",
    "    print(f\"ND: {ND}, Nf: {Nf}, Nt: {Nt}\")\n",
    "    yf = generate_freq_domain_signal(ND)\n",
    "    phif = phitilde_vec_norm(Nf, Nt, d=4.0)\n",
    "\n",
    "    # Warm up run\n",
    "    transform_wavelet_freq_helper(yf.data, Nf, Nt, phif)\n",
    "\n",
    "    # Timeit run\n",
    "    time_taken = timeit(\n",
    "        lambda: transform_wavelet_freq_helper(yf.data, Nf, Nt, phif), number=5\n",
    "    )\n",
    "    results[ND] = time_taken"
   ],
   "id": "b24117c0eeeb6ed2",
   "outputs": [
    {
     "name": "stdout",
     "output_type": "stream",
     "text": [
      "ND: 128, Nf: 8, Nt: 16\n",
      "ND: 512, Nf: 16, Nt: 32\n",
      "ND: 2048, Nf: 32, Nt: 64\n",
      "ND: 8192, Nf: 64, Nt: 128\n",
      "ND: 32768, Nf: 128, Nt: 256\n"
     ]
    }
   ],
   "execution_count": 15
  },
  {
   "metadata": {
    "ExecuteTime": {
     "end_time": "2025-03-24T01:53:26.960475Z",
     "start_time": "2025-03-24T01:53:26.956934Z"
    }
   },
   "cell_type": "code",
   "source": "results",
   "id": "b3f4750383c9ad60",
   "outputs": [
    {
     "data": {
      "text/plain": [
       "{128: 9.749794844537973e-05,\n",
       " 512: 0.00019677798263728619,\n",
       " 2048: 0.0004649469628930092,\n",
       " 8192: 0.0012474380200728774,\n",
       " 32768: 0.003837117925286293}"
      ]
     },
     "execution_count": 16,
     "metadata": {},
     "output_type": "execute_result"
    }
   ],
   "execution_count": 16
  },
  {
   "metadata": {},
   "cell_type": "code",
   "outputs": [],
   "execution_count": null,
   "source": [],
   "id": "3182daeca1bf5d20"
  }
 ],
 "metadata": {
  "kernelspec": {
   "display_name": "Python 3",
   "language": "python",
   "name": "python3"
  },
  "language_info": {
   "codemirror_mode": {
    "name": "ipython",
    "version": 2
   },
   "file_extension": ".py",
   "mimetype": "text/x-python",
   "name": "python",
   "nbconvert_exporter": "python",
   "pygments_lexer": "ipython2",
   "version": "2.7.6"
  }
 },
 "nbformat": 4,
 "nbformat_minor": 5
}
