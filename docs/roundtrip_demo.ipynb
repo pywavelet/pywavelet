{
 "cells": [
  {
   "cell_type": "markdown",
   "metadata": {},
   "source": [
    "# Roundtrip transfomation\n",
    "\n",
    "\n",
    "*Time to Wavelet to Time*\n",
    "\n",
    "\n",
    "Let's transform a time-domain signal to wavelet-domain and back to time-domain and compare the original and reconstructed signals.\n"
   ]
  },
  {
   "cell_type": "markdown",
   "metadata": {},
   "source": [
    "\n",
    "## Time domain signal\n",
    "\n",
    "To start, lets define a function to generate the time-domain signal."
   ]
  },
  {
   "cell_type": "code",
   "execution_count": 2,
   "metadata": {
    "ExecuteTime": {
     "end_time": "2024-08-21T02:31:28.624782Z",
     "start_time": "2024-08-21T02:31:28.618965Z"
    },
    "tags": [
     "hide-cell"
    ]
   },
   "outputs": [],
   "source": [
    "from scipy.signal import chirp\n",
    "import numpy as np\n",
    "from typing import List\n",
    "\n",
    "from pywavelet.transforms.types import TimeSeries, TimeAxis\n",
    "\n",
    "\n",
    "def generate_chirp_time_domain_signal(\n",
    "    t: np.ndarray, freq_range: List[float]\n",
    ") -> TimeSeries:\n",
    "    fs = 1 / (t[1] - t[0])\n",
    "    nyquist = fs / 2\n",
    "    fmax = max(freq_range)\n",
    "    assert (\n",
    "        fmax < nyquist\n",
    "    ), f\"f_max [{fmax:.2f} Hz] must be less than f_nyquist [{nyquist:2f} Hz].\"\n",
    "\n",
    "    y = chirp(\n",
    "        t, f0=freq_range[0], f1=freq_range[1], t1=t[-1], method=\"hyperbolic\"\n",
    "    )\n",
    "    return TimeSeries(data=y, time=TimeAxis(t))"
   ]
  },
  {
   "cell_type": "markdown",
   "metadata": {},
   "source": [
    "```{admonition} Provide data as a TimeSeries/FrequencySeries object\n",
    ":class: tip\n",
    "These objects will ensure correct bins for time/frequency in the WDM-domain.\n",
    "\n",
    "```\n",
    "\n",
    "\n",
    "## Define data-sizes\n",
    "We can now generate the timeseries. \n",
    "We need to be careful about the length of the timeseries ($ND$), and the number of time bins ($N_t$) and number of frequency bins ($N_f$) to use for our transform. \n",
    "\n",
    "We must have $ND=N_t\\times N_f$."
   ]
  },
  {
   "cell_type": "code",
   "execution_count": 3,
   "metadata": {
    "ExecuteTime": {
     "end_time": "2024-08-21T02:31:30.044651Z",
     "start_time": "2024-08-21T02:31:30.039511Z"
    }
   },
   "outputs": [],
   "source": [
    "# Sizes\n",
    "dt = 1 / 512\n",
    "Nt, Nf = 2**6, 2**6\n",
    "mult = 16\n",
    "freq_range = (10, 0.2 * (1 / dt))\n",
    "ND = Nt * Nf\n",
    "\n",
    "# time grid\n",
    "ts = np.arange(0, ND) * dt\n",
    "h_time = generate_chirp_time_domain_signal(ts, freq_range)"
   ]
  },
  {
   "cell_type": "markdown",
   "metadata": {},
   "source": [
    "## WDM transform\n",
    "\n",
    "With the timeseries, the selection for $\\{ND, N_t, N_f\\}$, we can transform the timeseries into the WDM domain. "
   ]
  },
  {
   "cell_type": "code",
   "execution_count": 4,
   "metadata": {
    "ExecuteTime": {
     "end_time": "2024-08-21T02:31:36.294332Z",
     "start_time": "2024-08-21T02:31:34.051220Z"
    }
   },
   "outputs": [],
   "source": [
    "from pywavelet.transforms import from_time_to_wavelet, from_wavelet_to_time\n",
    "\n",
    "# transform to wavelet domain\n",
    "h_wavelet = from_time_to_wavelet(h_time, Nf=Nf, Nt=Nt, mult=mult)\n",
    "\n",
    "# transform back to time domain\n",
    "h_reconstructed = from_wavelet_to_time(h_wavelet, dt=h_time.dt, mult=mult)"
   ]
  },
  {
   "cell_type": "markdown",
   "metadata": {},
   "source": [
    "## Plots\n",
    "\n",
    "Finally, we can plot the WDM-transform of the timeseries, along with residuals from the round-trip transform back to time-domain.\n"
   ]
  },
  {
   "cell_type": "code",
   "execution_count": null,
   "metadata": {
    "ExecuteTime": {
     "end_time": "2024-08-21T02:31:41.187222Z",
     "start_time": "2024-08-21T02:31:38.856080Z"
    },
    "tags": [
     "hide-cell"
    ]
   },
   "outputs": [],
   "source": [
    "import matplotlib.pyplot as plt\n",
    "\n",
    "\n",
    "def plot_residuals(ax, residuals):\n",
    "    ax.hist(residuals, bins=100)\n",
    "    # add textbox of mean and std\n",
    "    mean = residuals.mean()\n",
    "    std = residuals.std()\n",
    "    textstr = f\"$\\mu={mean:.1E}$\\n$\\sigma={std:.1E}$\"\n",
    "    props = dict(boxstyle=\"round\", facecolor=\"wheat\", alpha=0.5)\n",
    "    ax.text(\n",
    "        0.05,\n",
    "        0.95,\n",
    "        textstr,\n",
    "        transform=ax.transAxes,\n",
    "        fontsize=14,\n",
    "        verticalalignment=\"top\",\n",
    "        bbox=props,\n",
    "    )\n",
    "    ax.set_xlabel(\"Residuals\")\n",
    "    ax.set_ylabel(\"Count\")\n",
    "    return ax\n",
    "\n",
    "\n",
    "fig, axes = plt.subplots(1, 4, figsize=(18, 4))\n",
    "_ = h_time.plot_spectrogram(ax=axes[0])\n",
    "_ = h_wavelet.plot(ax=axes[1], absolute=True, cmap=\"Reds\")\n",
    "_ = h_reconstructed.plot_spectrogram(ax=axes[2])\n",
    "_ = plot_residuals(axes[3], h_time.data - h_reconstructed.data)\n",
    "axes[0].set_title(\"Original Time Domain\")\n",
    "axes[1].set_title(\"Wavelet Domain\")\n",
    "axes[2].set_title(\"Reconstructed Time Domain\")\n",
    "axes[3].set_title(\"Residuals\")\n",
    "for ax in axes[0:3]:\n",
    "    ax.set_ylim(*freq_range)\n",
    "fig.savefig(\"roundtrip_demo.png\")"
   ]
  },
  {
   "cell_type": "markdown",
   "metadata": {},
   "source": [
    "![](roundtrip_demo.png)"
   ]
  },
  {
   "cell_type": "markdown",
   "metadata": {},
   "source": [
    "Note: `pywavelet` provides some useful wavelet plotting utilities, availible from the `Wavelet` object:"
   ]
  },
  {
   "cell_type": "code",
   "execution_count": 6,
   "metadata": {
    "ExecuteTime": {
     "end_time": "2024-08-21T02:37:32.448392Z",
     "start_time": "2024-08-21T02:37:32.444524Z"
    }
   },
   "outputs": [
    {
     "name": "stdout",
     "output_type": "stream",
     "text": [
      "Help on method plot in module pywavelet.transforms.types.wavelet:\n",
      "\n",
      "plot(ax=None, *args, **kwargs) -> matplotlib.figure.Figure method of pywavelet.transforms.types.wavelet._Wavelet instance\n",
      "    Custom method.\n",
      "\n"
     ]
    }
   ],
   "source": [
    "help(h_wavelet.plot)"
   ]
  }
 ],
 "metadata": {
  "celltoolbar": "Tags",
  "kernelspec": {
   "display_name": "Python 3 (ipykernel)",
   "language": "python",
   "name": "python3"
  },
  "language_info": {
   "codemirror_mode": {
    "name": "ipython",
    "version": 3
   },
   "file_extension": ".py",
   "mimetype": "text/x-python",
   "name": "python",
   "nbconvert_exporter": "python",
   "pygments_lexer": "ipython3",
   "version": "3.9.17"
  },
  "toc": {
   "base_numbering": 1,
   "nav_menu": {},
   "number_sections": true,
   "sideBar": true,
   "skip_h1_title": false,
   "title_cell": "Table of Contents",
   "title_sidebar": "Contents",
   "toc_cell": false,
   "toc_position": {},
   "toc_section_display": true,
   "toc_window_display": true
  },
  "varInspector": {
   "cols": {
    "lenName": 16,
    "lenType": 16,
    "lenVar": 40
   },
   "kernels_config": {
    "python": {
     "delete_cmd_postfix": "",
     "delete_cmd_prefix": "del ",
     "library": "var_list.py",
     "varRefreshCmd": "print(var_dic_list())"
    },
    "r": {
     "delete_cmd_postfix": ") ",
     "delete_cmd_prefix": "rm(",
     "library": "var_list.r",
     "varRefreshCmd": "cat(var_dic_list()) "
    }
   },
   "types_to_exclude": [
    "module",
    "function",
    "builtin_function_or_method",
    "instance",
    "_Feature"
   ],
   "window_display": false
  },
  "widgets": {
   "application/vnd.jupyter.widget-state+json": {
    "state": {},
    "version_major": 2,
    "version_minor": 0
   }
  }
 },
 "nbformat": 4,
 "nbformat_minor": 4
}
