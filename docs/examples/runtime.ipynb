{
 "cells": [
  {
   "cell_type": "markdown",
   "id": "9df79fd10b46e463",
   "metadata": {},
   "source": [
    "\n",
    "\n",
    "<a target=\"_blank\" href=\"https://colab.research.google.com/github/pywavelet/pywavelet/blob/main/docs/runtime.ipynb\">\n",
    "  <img src=\"https://colab.research.google.com/assets/colab-badge.svg\" alt=\"Open In Colab\"/>\n",
    "</a>\n",
    "\n",
    "\n",
    "# Runtime Comparisons"
   ]
  },
  {
   "cell_type": "code",
   "execution_count": null,
   "id": "5968fd3823a7b7e",
   "metadata": {},
   "outputs": [],
   "source": [
    "import time\n",
    "\n",
    "! pip install pywavelet -q"
   ]
  },
  {
   "cell_type": "code",
   "id": "initial_id",
   "metadata": {
    "collapsed": true,
    "editable": true,
    "jupyter": {
     "outputs_hidden": true
    },
    "slideshow": {
     "slide_type": ""
    },
    "tags": [
     "hide-input"
    ],
    "ExecuteTime": {
     "end_time": "2025-04-01T03:07:30.928466Z",
     "start_time": "2025-04-01T03:07:10.514169Z"
    }
   },
   "source": [
    "import numpy as np\n",
    "import jax.numpy as jnp\n",
    "import pandas as pd\n",
    "import jax\n",
    "import json\n",
    "import os\n",
    "\n",
    "from pywavelet.backend import cuda_available\n",
    "from tqdm.auto import tqdm\n",
    "from pywavelet.types import FrequencySeries\n",
    "from pywavelet.transforms.phi_computer import phitilde_vec_norm\n",
    "from timeit import repeat as timing_repeat\n",
    "import matplotlib.pyplot as plt\n",
    "from typing import Tuple\n",
    "import glob\n",
    "\n",
    "jax.config.update(\"jax_enable_x64\", False)\n",
    "JAX_DEVICE = jax.default_backend()\n",
    "JAX_PRECISION = \"x64\" if jax.config.jax_enable_x64 else \"x32\"\n",
    "\n",
    "if cuda_available:\n",
    "    import cupy as cp\n",
    "\n",
    "min_pow2 = 2\n",
    "max_pow2 = 14\n",
    "NF = [2**i for i in range(min_pow2, max_pow2)]\n",
    "NREP = 5\n",
    "\n",
    "\n",
    "def generate_freq_domain_signal(\n",
    "    ND, f0=20.0, dt=0.0125, A=2\n",
    ") -> FrequencySeries:\n",
    "    \"\"\"\n",
    "    Generates a frequency domain signal.\n",
    "\n",
    "    Parameters:\n",
    "    ND (int): Number of data points.\n",
    "    f0 (float): Frequency of the signal. Default is 20.0.\n",
    "    dt (float): Time step. Default is 0.0125.\n",
    "    A (float): Amplitude of the signal. Default is 2.\n",
    "\n",
    "    Returns:\n",
    "    FrequencySeries: The generated frequency domain signal.\n",
    "    \"\"\"\n",
    "    ts = np.arange(0, ND) * dt\n",
    "    y = A * np.sin(2 * np.pi * f0 * ts)\n",
    "    yf = FrequencySeries(y, ts)\n",
    "    return yf\n",
    "\n",
    "\n",
    "def generate_func_args(ND: int, label=\"numpy\") -> Tuple:\n",
    "    Nf = Nt = int(np.sqrt(ND))\n",
    "    yf = generate_freq_domain_signal(ND).data\n",
    "    phif = phitilde_vec_norm(Nf, Nt, d=4.0)\n",
    "    if \"jax\" in label:\n",
    "        yf = jnp.array(yf)\n",
    "        phif = jnp.array(phif)\n",
    "    if \"cupy\" in label and cuda_available:\n",
    "        yf = cp.array(yf)\n",
    "        phif = cp.array(phif)\n",
    "    return yf, Nf, Nt, phif\n",
    "\n",
    "\n",
    "def collect_runtime(func, func_args) -> Tuple[float, float]:\n",
    "    warm_time = 0\n",
    "    for i in range(5):\n",
    "        t0 = time.process_time()\n",
    "        func(*func_args)  # Warm up run\n",
    "        warm_time = time.process_time() - t0\n",
    "\n",
    "    if warm_time < 0.001:\n",
    "        number = 1000\n",
    "    elif warm_time < 0.1:\n",
    "        number = 10\n",
    "    else:\n",
    "        number = 1\n",
    "    # see https://stackoverflow.com/questions/48258008/n-and-r-arguments-to-ipythons-timeit-magic/59543135#59543135\n",
    "\n",
    "    times = timing_repeat(lambda: func(*func_args), number=number, repeat=NREP)\n",
    "    return np.median(times), np.std(times)\n",
    "\n",
    "\n",
    "def collect_runtimes(func, label, NF_values) -> np.ndarray:\n",
    "    results = np.zeros((len(NF_values), 3))\n",
    "    bar = tqdm(NF_values, desc=\"Running\")\n",
    "    for i, Nf in enumerate(bar):\n",
    "        ND = Nf * Nf\n",
    "        bar.set_postfix(ND=f\"2**{int(np.log2(ND))}\")\n",
    "        func_args = generate_func_args(ND, label)\n",
    "        try:\n",
    "            _times = collect_runtime(func, func_args)\n",
    "        except Exception as e:\n",
    "            print(f\"Error processing ND={ND}: {e}\")\n",
    "            _times = (np.nan, np.nan)\n",
    "        results[i] = np.array([ND, *_times])\n",
    "\n",
    "    runtimes = pd.DataFrame(results, columns=[\"ND\", \"median\", \"std\"])\n",
    "    runtimes.to_csv(f\"runtime_{label}.csv\", index=False)\n",
    "\n",
    "    return runtimes\n",
    "\n",
    "\n",
    "def save_jax_runtimes():\n",
    "    from pywavelet.transforms.jax.forward.from_freq import (\n",
    "        transform_wavelet_freq_helper as jax_transform,\n",
    "    )\n",
    "\n",
    "    jax_label = f\"jax_{JAX_DEVICE}_{JAX_PRECISION}\"\n",
    "    collect_runtimes(jax_transform, jax_label, NF)\n",
    "\n",
    "\n",
    "def save_cupy_runtimes():\n",
    "    from pywavelet.transforms.cupy.forward.from_freq import (\n",
    "        transform_wavelet_freq_helper as cp_transform,\n",
    "    )\n",
    "\n",
    "    collect_runtimes(cp_transform, \"cupy\", NF)\n",
    "\n",
    "\n",
    "def save_numpy_runtimes():\n",
    "    from pywavelet.transforms.numpy.forward.from_freq import (\n",
    "        transform_wavelet_freq_helper as np_transform,\n",
    "    )\n",
    "\n",
    "    collect_runtimes(np_transform, \"numpy\", NF)\n",
    "\n",
    "\n",
    "def cache_all_runtimes(cache_fn: str = \"runtimes.json\"):\n",
    "    data = {}\n",
    "    for f in glob.glob(\"runtime_*.csv\"):\n",
    "        df = pd.read_csv(f)\n",
    "        label = f.split(\"runtime_\")[1].split(\".\")[0]\n",
    "        data[label] = df.to_dict(orient=\"records\")\n",
    "\n",
    "    # load any existing data\n",
    "    if os.path.exists(cache_fn):\n",
    "        with open(cache_fn, \"r\") as f:\n",
    "            existing_data = json.load(f)\n",
    "            data.update(existing_data)\n",
    "\n",
    "    # save to json\n",
    "    with open(cache_fn, \"w\") as f:\n",
    "        json.dump(data, f, indent=4)\n",
    "\n",
    "\n",
    "def plot_all_runtimes(cache_fn: str = \"runtimes.json\"):\n",
    "    fig, ax = plt.subplots(figsize=(4, 3.5))\n",
    "\n",
    "    with open(cache_fn, \"r\") as f:\n",
    "        data = json.load(f)\n",
    "        for label, runtimes in data.items():\n",
    "            runtimes = pd.DataFrame(runtimes)\n",
    "            plot(runtimes, ax=ax, label=label)\n",
    "    ax.legend(frameon=False)\n",
    "    return fig, ax\n",
    "\n",
    "\n",
    "def plot(\n",
    "    runtimes: pd.DataFrame, ax=None, **kwgs\n",
    ") -> Tuple[plt.Figure, plt.Axes]:\n",
    "    if ax is None:\n",
    "        fig, ax = plt.subplots(figsize=(4, 3.5))\n",
    "    fig = ax.figure\n",
    "\n",
    "    runtimes = runtimes.dropna()\n",
    "    runtimes = runtimes.sort_values(by=\"ND\")\n",
    "\n",
    "    nds = runtimes[\"ND\"].values\n",
    "    times, stds = runtimes[\"median\"], runtimes[\"std\"]\n",
    "    ax.plot(nds, times, **kwgs)\n",
    "    kwgs[\"label\"] = None\n",
    "    ax.fill_between(\n",
    "        nds,\n",
    "        np.array(times) - np.array(stds),\n",
    "        np.array(times) + np.array(stds),\n",
    "        alpha=0.3,\n",
    "        **kwgs,\n",
    "    )\n",
    "\n",
    "    ax.set_yscale(\"log\")\n",
    "    ax.set_xscale(\"log\")\n",
    "    ax.set_xlabel(\"Number of Data Points\")\n",
    "    ax.set_ylabel(\"Runtime (s)\")\n",
    "    return fig, ax\n",
    "\n",
    "\n",
    "save_numpy_runtimes()\n",
    "save_jax_runtimes()\n",
    "cache_all_runtimes()\n",
    "fig, ax = plot_all_runtimes()\n",
    "fig.savefig(\"runtimes.png\", bbox_inches=\"tight\")"
   ],
   "outputs": [
    {
     "data": {
      "text/plain": [
       "\u001b[2;36m[16:07:12]\u001b[0m\u001b[2;36m \u001b[0m\u001b[34mINFO    \u001b[0m Using NumPy backend                                                               \u001b]8;id=521687;file:///Users/avaj0001/Documents/projects/pywavelet/package/src/pywavelet/backend.py\u001b\\\u001b[2mbackend.py\u001b[0m\u001b]8;;\u001b\\\u001b[2m:\u001b[0m\u001b]8;id=776845;file:///Users/avaj0001/Documents/projects/pywavelet/package/src/pywavelet/backend.py#79\u001b\\\u001b[2m79\u001b[0m\u001b]8;;\u001b\\\n"
      ],
      "text/html": [
       "<pre style=\"white-space:pre;overflow-x:auto;line-height:normal;font-family:Menlo,'DejaVu Sans Mono',consolas,'Courier New',monospace\"><span style=\"color: #7fbfbf; text-decoration-color: #7fbfbf\">[16:07:12] </span><span style=\"color: #000080; text-decoration-color: #000080\">INFO    </span> Using NumPy backend                                                               <a href=\"file:///Users/avaj0001/Documents/projects/pywavelet/package/src/pywavelet/backend.py\" target=\"_blank\"><span style=\"color: #7f7f7f; text-decoration-color: #7f7f7f\">backend.py</span></a><span style=\"color: #7f7f7f; text-decoration-color: #7f7f7f\">:</span><a href=\"file:///Users/avaj0001/Documents/projects/pywavelet/package/src/pywavelet/backend.py#79\" target=\"_blank\"><span style=\"color: #7f7f7f; text-decoration-color: #7f7f7f\">79</span></a>\n",
       "</pre>\n"
      ]
     },
     "metadata": {},
     "output_type": "display_data"
    },
    {
     "name": "stderr",
     "output_type": "stream",
     "text": [
      "/Users/avaj0001/miniforge3/envs/pywavelet/lib/python3.10/site-packages/tqdm/auto.py:21: TqdmWarning: IProgress not found. Please update jupyter and ipywidgets. See https://ipywidgets.readthedocs.io/en/stable/user_install.html\n",
      "  from .autonotebook import tqdm as notebook_tqdm\n",
      "INFO:2025-04-01 16:07:15,339:jax._src.xla_bridge:927: Unable to initialize backend 'rocm': module 'jaxlib.xla_extension' has no attribute 'GpuAllocatorConfig'\n"
     ]
    },
    {
     "data": {
      "text/plain": [
       "\u001b[2;36m[16:07:15]\u001b[0m\u001b[2;36m \u001b[0m\u001b[34mINFO    \u001b[0m Unable to initialize backend \u001b[32m'rocm'\u001b[0m: module \u001b[32m'jaxlib.xla_extension'\u001b[0m has no     \u001b]8;id=325124;file:///Users/avaj0001/miniforge3/envs/pywavelet/lib/python3.10/site-packages/jax/_src/xla_bridge.py\u001b\\\u001b[2mxla_bridge.py\u001b[0m\u001b]8;;\u001b\\\u001b[2m:\u001b[0m\u001b]8;id=623083;file:///Users/avaj0001/miniforge3/envs/pywavelet/lib/python3.10/site-packages/jax/_src/xla_bridge.py#927\u001b\\\u001b[2m927\u001b[0m\u001b]8;;\u001b\\\n",
       "\u001b[2;36m           \u001b[0m         attribute \u001b[32m'GpuAllocatorConfig'\u001b[0m                                                \u001b[2m                 \u001b[0m\n"
      ],
      "text/html": [
       "<pre style=\"white-space:pre;overflow-x:auto;line-height:normal;font-family:Menlo,'DejaVu Sans Mono',consolas,'Courier New',monospace\"><span style=\"color: #7fbfbf; text-decoration-color: #7fbfbf\">[16:07:15] </span><span style=\"color: #000080; text-decoration-color: #000080\">INFO    </span> Unable to initialize backend <span style=\"color: #008000; text-decoration-color: #008000\">'rocm'</span>: module <span style=\"color: #008000; text-decoration-color: #008000\">'jaxlib.xla_extension'</span> has no     <a href=\"file:///Users/avaj0001/miniforge3/envs/pywavelet/lib/python3.10/site-packages/jax/_src/xla_bridge.py\" target=\"_blank\"><span style=\"color: #7f7f7f; text-decoration-color: #7f7f7f\">xla_bridge.py</span></a><span style=\"color: #7f7f7f; text-decoration-color: #7f7f7f\">:</span><a href=\"file:///Users/avaj0001/miniforge3/envs/pywavelet/lib/python3.10/site-packages/jax/_src/xla_bridge.py#927\" target=\"_blank\"><span style=\"color: #7f7f7f; text-decoration-color: #7f7f7f\">927</span></a>\n",
       "<span style=\"color: #7fbfbf; text-decoration-color: #7fbfbf\">           </span>         attribute <span style=\"color: #008000; text-decoration-color: #008000\">'GpuAllocatorConfig'</span>                                                <span style=\"color: #7f7f7f; text-decoration-color: #7f7f7f\">                 </span>\n",
       "</pre>\n"
      ]
     },
     "metadata": {},
     "output_type": "display_data"
    },
    {
     "name": "stderr",
     "output_type": "stream",
     "text": [
      "INFO:2025-04-01 16:07:15,347:jax._src.xla_bridge:927: Unable to initialize backend 'tpu': INTERNAL: Failed to open libtpu.so: dlopen(libtpu.so, 0x0001): tried: 'libtpu.so' (no such file), '/System/Volumes/Preboot/Cryptexes/OSlibtpu.so' (no such file), '/Users/avaj0001/miniforge3/envs/pywavelet/bin/../lib/libtpu.so' (no such file), '/usr/lib/libtpu.so' (no such file, not in dyld cache), 'libtpu.so' (no such file), '/usr/local/lib/libtpu.so' (no such file), '/usr/lib/libtpu.so' (no such file, not in dyld cache)\n"
     ]
    },
    {
     "data": {
      "text/plain": [
       "\u001b[2;36m          \u001b[0m\u001b[2;36m \u001b[0m\u001b[34mINFO    \u001b[0m Unable to initialize backend \u001b[32m'tpu'\u001b[0m: INTERNAL: Failed to open libtpu.so:       \u001b]8;id=222212;file:///Users/avaj0001/miniforge3/envs/pywavelet/lib/python3.10/site-packages/jax/_src/xla_bridge.py\u001b\\\u001b[2mxla_bridge.py\u001b[0m\u001b]8;;\u001b\\\u001b[2m:\u001b[0m\u001b]8;id=646794;file:///Users/avaj0001/miniforge3/envs/pywavelet/lib/python3.10/site-packages/jax/_src/xla_bridge.py#927\u001b\\\u001b[2m927\u001b[0m\u001b]8;;\u001b\\\n",
       "\u001b[2;36m           \u001b[0m         \u001b[1;35mdlopen\u001b[0m\u001b[1m(\u001b[0mlibtpu.so, \u001b[1;36m0x0001\u001b[0m\u001b[1m)\u001b[0m: tried: \u001b[32m'libtpu.so'\u001b[0m \u001b[1m(\u001b[0mno such file\u001b[1m)\u001b[0m,                 \u001b[2m                 \u001b[0m\n",
       "\u001b[2;36m           \u001b[0m         \u001b[32m'/System/Volumes/Preboot/Cryptexes/OSlibtpu.so'\u001b[0m \u001b[1m(\u001b[0mno such file\u001b[1m)\u001b[0m,               \u001b[2m                 \u001b[0m\n",
       "\u001b[2;36m           \u001b[0m         \u001b[32m'/Users/avaj0001/miniforge3/envs/pywavelet/bin/../lib/libtpu.so'\u001b[0m \u001b[1m(\u001b[0mno such     \u001b[2m                 \u001b[0m\n",
       "\u001b[2;36m           \u001b[0m         file\u001b[1m)\u001b[0m, \u001b[32m'/usr/lib/libtpu.so'\u001b[0m \u001b[1m(\u001b[0mno such file, not in dyld cache\u001b[1m)\u001b[0m, \u001b[32m'libtpu.so'\u001b[0m    \u001b[2m                 \u001b[0m\n",
       "\u001b[2;36m           \u001b[0m         \u001b[1m(\u001b[0mno such file\u001b[1m)\u001b[0m, \u001b[32m'/usr/local/lib/libtpu.so'\u001b[0m \u001b[1m(\u001b[0mno such file\u001b[1m)\u001b[0m,                    \u001b[2m                 \u001b[0m\n",
       "\u001b[2;36m           \u001b[0m         \u001b[32m'/usr/lib/libtpu.so'\u001b[0m \u001b[1m(\u001b[0mno such file, not in dyld cache\u001b[1m)\u001b[0m                        \u001b[2m                 \u001b[0m\n"
      ],
      "text/html": [
       "<pre style=\"white-space:pre;overflow-x:auto;line-height:normal;font-family:Menlo,'DejaVu Sans Mono',consolas,'Courier New',monospace\"><span style=\"color: #7fbfbf; text-decoration-color: #7fbfbf\">           </span><span style=\"color: #000080; text-decoration-color: #000080\">INFO    </span> Unable to initialize backend <span style=\"color: #008000; text-decoration-color: #008000\">'tpu'</span>: INTERNAL: Failed to open libtpu.so:       <a href=\"file:///Users/avaj0001/miniforge3/envs/pywavelet/lib/python3.10/site-packages/jax/_src/xla_bridge.py\" target=\"_blank\"><span style=\"color: #7f7f7f; text-decoration-color: #7f7f7f\">xla_bridge.py</span></a><span style=\"color: #7f7f7f; text-decoration-color: #7f7f7f\">:</span><a href=\"file:///Users/avaj0001/miniforge3/envs/pywavelet/lib/python3.10/site-packages/jax/_src/xla_bridge.py#927\" target=\"_blank\"><span style=\"color: #7f7f7f; text-decoration-color: #7f7f7f\">927</span></a>\n",
       "<span style=\"color: #7fbfbf; text-decoration-color: #7fbfbf\">           </span>         <span style=\"color: #800080; text-decoration-color: #800080; font-weight: bold\">dlopen</span><span style=\"font-weight: bold\">(</span>libtpu.so, <span style=\"color: #008080; text-decoration-color: #008080; font-weight: bold\">0x0001</span><span style=\"font-weight: bold\">)</span>: tried: <span style=\"color: #008000; text-decoration-color: #008000\">'libtpu.so'</span> <span style=\"font-weight: bold\">(</span>no such file<span style=\"font-weight: bold\">)</span>,                 <span style=\"color: #7f7f7f; text-decoration-color: #7f7f7f\">                 </span>\n",
       "<span style=\"color: #7fbfbf; text-decoration-color: #7fbfbf\">           </span>         <span style=\"color: #008000; text-decoration-color: #008000\">'/System/Volumes/Preboot/Cryptexes/OSlibtpu.so'</span> <span style=\"font-weight: bold\">(</span>no such file<span style=\"font-weight: bold\">)</span>,               <span style=\"color: #7f7f7f; text-decoration-color: #7f7f7f\">                 </span>\n",
       "<span style=\"color: #7fbfbf; text-decoration-color: #7fbfbf\">           </span>         <span style=\"color: #008000; text-decoration-color: #008000\">'/Users/avaj0001/miniforge3/envs/pywavelet/bin/../lib/libtpu.so'</span> <span style=\"font-weight: bold\">(</span>no such     <span style=\"color: #7f7f7f; text-decoration-color: #7f7f7f\">                 </span>\n",
       "<span style=\"color: #7fbfbf; text-decoration-color: #7fbfbf\">           </span>         file<span style=\"font-weight: bold\">)</span>, <span style=\"color: #008000; text-decoration-color: #008000\">'/usr/lib/libtpu.so'</span> <span style=\"font-weight: bold\">(</span>no such file, not in dyld cache<span style=\"font-weight: bold\">)</span>, <span style=\"color: #008000; text-decoration-color: #008000\">'libtpu.so'</span>    <span style=\"color: #7f7f7f; text-decoration-color: #7f7f7f\">                 </span>\n",
       "<span style=\"color: #7fbfbf; text-decoration-color: #7fbfbf\">           </span>         <span style=\"font-weight: bold\">(</span>no such file<span style=\"font-weight: bold\">)</span>, <span style=\"color: #008000; text-decoration-color: #008000\">'/usr/local/lib/libtpu.so'</span> <span style=\"font-weight: bold\">(</span>no such file<span style=\"font-weight: bold\">)</span>,                    <span style=\"color: #7f7f7f; text-decoration-color: #7f7f7f\">                 </span>\n",
       "<span style=\"color: #7fbfbf; text-decoration-color: #7fbfbf\">           </span>         <span style=\"color: #008000; text-decoration-color: #008000\">'/usr/lib/libtpu.so'</span> <span style=\"font-weight: bold\">(</span>no such file, not in dyld cache<span style=\"font-weight: bold\">)</span>                        <span style=\"color: #7f7f7f; text-decoration-color: #7f7f7f\">                 </span>\n",
       "</pre>\n"
      ]
     },
     "metadata": {},
     "output_type": "display_data"
    },
    {
     "name": "stderr",
     "output_type": "stream",
     "text": [
      "Running: 100%|██████████| 6/6 [00:07<00:00,  1.25s/it, ND=2**14]\n"
     ]
    },
    {
     "data": {
      "text/plain": [
       "\u001b[2;36m[16:07:22]\u001b[0m\u001b[2;36m \u001b[0m\u001b[33mWARNING \u001b[0m JAX SUBPACKAGE NOT FULLY TESTED                                                   \u001b]8;id=119815;file:///Users/avaj0001/Documents/projects/pywavelet/package/src/pywavelet/transforms/jax/__init__.py\u001b\\\u001b[2m__init__.py\u001b[0m\u001b]8;;\u001b\\\u001b[2m:\u001b[0m\u001b]8;id=632460;file:///Users/avaj0001/Documents/projects/pywavelet/package/src/pywavelet/transforms/jax/__init__.py#5\u001b\\\u001b[2m5\u001b[0m\u001b]8;;\u001b\\\n"
      ],
      "text/html": [
       "<pre style=\"white-space:pre;overflow-x:auto;line-height:normal;font-family:Menlo,'DejaVu Sans Mono',consolas,'Courier New',monospace\"><span style=\"color: #7fbfbf; text-decoration-color: #7fbfbf\">[16:07:22] </span><span style=\"color: #808000; text-decoration-color: #808000\">WARNING </span> JAX SUBPACKAGE NOT FULLY TESTED                                                   <a href=\"file:///Users/avaj0001/Documents/projects/pywavelet/package/src/pywavelet/transforms/jax/__init__.py\" target=\"_blank\"><span style=\"color: #7f7f7f; text-decoration-color: #7f7f7f\">__init__.py</span></a><span style=\"color: #7f7f7f; text-decoration-color: #7f7f7f\">:</span><a href=\"file:///Users/avaj0001/Documents/projects/pywavelet/package/src/pywavelet/transforms/jax/__init__.py#5\" target=\"_blank\"><span style=\"color: #7f7f7f; text-decoration-color: #7f7f7f\">5</span></a>\n",
       "</pre>\n"
      ]
     },
     "metadata": {},
     "output_type": "display_data"
    },
    {
     "data": {
      "text/plain": [
       "\u001b[2;36m          \u001b[0m\u001b[2;36m \u001b[0m\u001b[34mINFO    \u001b[0m Jax running on cpu \u001b[1m[\u001b[0m32bit precision\u001b[1m]\u001b[0m.                                            \u001b]8;id=477238;file:///Users/avaj0001/Documents/projects/pywavelet/package/src/pywavelet/transforms/jax/__init__.py\u001b\\\u001b[2m__init__.py\u001b[0m\u001b]8;;\u001b\\\u001b[2m:\u001b[0m\u001b]8;id=970633;file:///Users/avaj0001/Documents/projects/pywavelet/package/src/pywavelet/transforms/jax/__init__.py#21\u001b\\\u001b[2m21\u001b[0m\u001b]8;;\u001b\\\n"
      ],
      "text/html": [
       "<pre style=\"white-space:pre;overflow-x:auto;line-height:normal;font-family:Menlo,'DejaVu Sans Mono',consolas,'Courier New',monospace\"><span style=\"color: #7fbfbf; text-decoration-color: #7fbfbf\">           </span><span style=\"color: #000080; text-decoration-color: #000080\">INFO    </span> Jax running on cpu <span style=\"font-weight: bold\">[</span>32bit precision<span style=\"font-weight: bold\">]</span>.                                            <a href=\"file:///Users/avaj0001/Documents/projects/pywavelet/package/src/pywavelet/transforms/jax/__init__.py\" target=\"_blank\"><span style=\"color: #7f7f7f; text-decoration-color: #7f7f7f\">__init__.py</span></a><span style=\"color: #7f7f7f; text-decoration-color: #7f7f7f\">:</span><a href=\"file:///Users/avaj0001/Documents/projects/pywavelet/package/src/pywavelet/transforms/jax/__init__.py#21\" target=\"_blank\"><span style=\"color: #7f7f7f; text-decoration-color: #7f7f7f\">21</span></a>\n",
       "</pre>\n"
      ]
     },
     "metadata": {},
     "output_type": "display_data"
    },
    {
     "data": {
      "text/plain": [
       "\u001b[2;36m          \u001b[0m\u001b[2;36m \u001b[0m\u001b[33mWARNING \u001b[0m Jax is not running in 64bit precision. To change, use                            \u001b]8;id=495625;file:///Users/avaj0001/Documents/projects/pywavelet/package/src/pywavelet/transforms/jax/__init__.py\u001b\\\u001b[2m__init__.py\u001b[0m\u001b]8;;\u001b\\\u001b[2m:\u001b[0m\u001b]8;id=228563;file:///Users/avaj0001/Documents/projects/pywavelet/package/src/pywavelet/transforms/jax/__init__.py#23\u001b\\\u001b[2m23\u001b[0m\u001b]8;;\u001b\\\n",
       "\u001b[2;36m           \u001b[0m         \u001b[1;35mjax.config.update\u001b[0m\u001b[1m(\u001b[0m\u001b[32m'jax_enable_x64'\u001b[0m, \u001b[3;92mTrue\u001b[0m\u001b[1m)\u001b[0m.                                       \u001b[2m              \u001b[0m\n"
      ],
      "text/html": [
       "<pre style=\"white-space:pre;overflow-x:auto;line-height:normal;font-family:Menlo,'DejaVu Sans Mono',consolas,'Courier New',monospace\"><span style=\"color: #7fbfbf; text-decoration-color: #7fbfbf\">           </span><span style=\"color: #808000; text-decoration-color: #808000\">WARNING </span> Jax is not running in 64bit precision. To change, use                            <a href=\"file:///Users/avaj0001/Documents/projects/pywavelet/package/src/pywavelet/transforms/jax/__init__.py\" target=\"_blank\"><span style=\"color: #7f7f7f; text-decoration-color: #7f7f7f\">__init__.py</span></a><span style=\"color: #7f7f7f; text-decoration-color: #7f7f7f\">:</span><a href=\"file:///Users/avaj0001/Documents/projects/pywavelet/package/src/pywavelet/transforms/jax/__init__.py#23\" target=\"_blank\"><span style=\"color: #7f7f7f; text-decoration-color: #7f7f7f\">23</span></a>\n",
       "<span style=\"color: #7fbfbf; text-decoration-color: #7fbfbf\">           </span>         <span style=\"color: #800080; text-decoration-color: #800080; font-weight: bold\">jax.config.update</span><span style=\"font-weight: bold\">(</span><span style=\"color: #008000; text-decoration-color: #008000\">'jax_enable_x64'</span>, <span style=\"color: #00ff00; text-decoration-color: #00ff00; font-style: italic\">True</span><span style=\"font-weight: bold\">)</span>.                                       <span style=\"color: #7f7f7f; text-decoration-color: #7f7f7f\">              </span>\n",
       "</pre>\n"
      ]
     },
     "metadata": {},
     "output_type": "display_data"
    },
    {
     "name": "stderr",
     "output_type": "stream",
     "text": [
      "Running: 100%|██████████| 6/6 [00:06<00:00,  1.16s/it, ND=2**14]\n"
     ]
    },
    {
     "data": {
      "text/plain": [
       "<Figure size 400x350 with 1 Axes>"
      ],
      "image/png": "[encoded data removed]"
     },
     "metadata": {},
     "output_type": "display_data"
    }
   ],
   "execution_count": 1
  },
  {
   "metadata": {},
   "cell_type": "code",
   "outputs": [],
   "execution_count": null,
   "source": "",
   "id": "c746b4977d05912a"
  }
 ],
 "metadata": {
  "kernelspec": {
   "display_name": "Python 3 (ipykernel)",
   "language": "python",
   "name": "python3"
  },
  "language_info": {
   "codemirror_mode": {
    "name": "ipython",
    "version": 3
   },
   "file_extension": ".py",
   "mimetype": "text/x-python",
   "name": "python",
   "nbconvert_exporter": "python",
   "pygments_lexer": "ipython3",
   "version": "3.10.16"
  }
 },
 "nbformat": 4,
 "nbformat_minor": 5
}
