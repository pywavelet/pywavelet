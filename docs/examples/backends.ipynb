{
 "cells": [
  {
   "metadata": {},
   "cell_type": "markdown",
   "source": [
    "<a target=\"_blank\" href=\"https://colab.research.google.com/github/pywavelet/pywavelet/blob/main/docs/examples/backends.ipynb\">\n",
    "  <img src=\"https://colab.research.google.com/assets/colab-badge.svg\" alt=\"Open In Colab\"/>\n",
    "</a>\n",
    "\n",
    "# Backend comparison\n",
    "\n",
    "Here we plot the roundtrip of a chirp signal in the frequency domain to the wavelet domain and back to the frequency domain using different backends: NumPy, JAX, and CuPy."
   ],
   "id": "cb6f1d21e58aa14"
  },
  {
   "metadata": {},
   "cell_type": "code",
   "outputs": [],
   "execution_count": null,
   "source": "! pip install pywavelet",
   "id": "9d00e69b1d2b7513"
  },
  {
   "metadata": {
    "collapsed": true,
    "ExecuteTime": {
     "end_time": "2025-05-27T06:53:59.891795Z",
     "start_time": "2025-05-27T06:53:59.821154Z"
    }
   },
   "cell_type": "code",
   "source": [
    "from scipy.signal import chirp\n",
    "import numpy as np\n",
    "from typing import List\n",
    "import matplotlib.pyplot as plt\n",
    "import os\n",
    "\n",
    "from pywavelet.types import TimeSeries, FrequencySeries\n",
    "\n",
    "PLOT_DIR = f\"backend_plots\"\n",
    "os.makedirs(PLOT_DIR, exist_ok=True)\n",
    "\n",
    "\n",
    "def generate_chirp_time_domain_signal(\n",
    "        t: np.ndarray, freq_range: List[float]\n",
    ") -> TimeSeries:\n",
    "    fs = 1 / (t[1] - t[0])\n",
    "    nyquist = fs / 2\n",
    "    fmax = max(freq_range)\n",
    "    assert (\n",
    "            fmax < nyquist\n",
    "    ), f\"f_max [{fmax:.2f} Hz] must be less than f_nyquist [{nyquist:2f} Hz].\"\n",
    "\n",
    "    y = chirp(\n",
    "        t, f0=freq_range[0], f1=freq_range[1], t1=t[-1], method=\"hyperbolic\"\n",
    "    )\n",
    "    return TimeSeries(data=y, time=t)\n",
    "\n",
    "\n",
    "def plot_residuals(ax, residuals):\n",
    "    ax.hist(residuals, bins=100)\n",
    "    # add textbox of mean and std\n",
    "    mean = residuals.mean()\n",
    "    std = residuals.std()\n",
    "    textstr = f\"$\\mu={mean:.1E}$\\n$\\sigma={std:.1E}$\"\n",
    "    props = dict(boxstyle=\"round\", facecolor=\"wheat\", alpha=0.5)\n",
    "    ax.text(\n",
    "        0.05,\n",
    "        0.95,\n",
    "        textstr,\n",
    "        transform=ax.transAxes,\n",
    "        fontsize=14,\n",
    "        verticalalignment=\"top\",\n",
    "        bbox=props,\n",
    "    )\n",
    "    ax.set_xlabel(\"Residuals\")\n",
    "    ax.set_ylabel(\"Count\")\n",
    "    ax.ticklabel_format(axis=\"x\", style=\"sci\", scilimits=(0, 0))\n",
    "    return ax\n",
    "\n",
    "\n",
    "def plot(h_freq, h_reconstructed, h_wavelet, title=None):\n",
    "    fig, axes = plt.subplots(1, 3, figsize=(18, 4))\n",
    "    _ = h_freq.plot_periodogram(ax=axes[0], color=\"black\", label=\"Original\")\n",
    "    _ = h_reconstructed.plot_periodogram(ax=axes[0], ls=\"--\", color=\"red\", label=\"Reconstructed\")\n",
    "    _ = h_wavelet.plot(ax=axes[1], absolute=True, cmap=\"Reds\")\n",
    "    _ = plot_residuals(axes[2], h_freq.data - h_reconstructed.data)\n",
    "    axes[0].legend()\n",
    "    axes[0].set_title(\"Orig[black] vs Reconstructed[red]\")\n",
    "    axes[1].set_title(\"Wavelet Domain\")\n",
    "    axes[2].set_title(\"Residuals\")\n",
    "    if title is not None:\n",
    "        fig.suptitle(title)\n",
    "    plt.tight_layout()\n",
    "    # remove whitespace in 'title'\n",
    "    fname = title.replace(\" \", \"_\") if title else \"roundtrip\"\n",
    "    fig.savefig(f\"{PLOT_DIR}/{fname}.png\", dpi=300, bbox_inches=\"tight\")\n",
    "    plt.close(fig)\n",
    "\n",
    "\n",
    "# Sizes\n",
    "dt = 1 / 512\n",
    "Nt, Nf = 2 ** 6, 2 ** 6\n",
    "mult = 16\n",
    "freq_range = (10, 0.2 * (1 / dt))\n",
    "ND = Nt * Nf\n",
    "ts = np.arange(0, ND) * dt\n",
    "h_time = generate_chirp_time_domain_signal(ts, freq_range)\n",
    "h_freq = h_time.to_frequencyseries()"
   ],
   "id": "initial_id",
   "outputs": [],
   "execution_count": 22
  },
  {
   "metadata": {},
   "cell_type": "markdown",
   "source": "**Using NumPy**\n",
   "id": "301c2cb1267dff69"
  },
  {
   "metadata": {
    "ExecuteTime": {
     "end_time": "2025-05-27T06:54:04.607664Z",
     "start_time": "2025-05-27T06:54:01.944551Z"
    }
   },
   "cell_type": "code",
   "source": [
    "from pywavelet.transforms.numpy import from_freq_to_wavelet, from_wavelet_to_freq\n",
    "\n",
    "h_wavelet = from_freq_to_wavelet(h_freq, Nf=Nf, Nt=Nt)\n",
    "h_reconstructed = from_wavelet_to_freq(h_wavelet, dt=dt)\n",
    "plot(h_freq, h_reconstructed, h_wavelet, title=\"NumPy Roundtrip\")"
   ],
   "id": "db1ac6e6b85c8a8f",
   "outputs": [],
   "execution_count": 23
  },
  {
   "metadata": {},
   "cell_type": "markdown",
   "source": "**Using JAX**",
   "id": "c94c2a750276535d"
  },
  {
   "metadata": {
    "ExecuteTime": {
     "end_time": "2025-05-27T07:01:54.441244Z",
     "start_time": "2025-05-27T07:01:51.072980Z"
    }
   },
   "cell_type": "code",
   "source": [
    "import jax\n",
    "\n",
    "jax.config.update(\"jax_enable_x64\", True)\n",
    "\n",
    "from pywavelet.transforms.jax import (\n",
    "    from_freq_to_wavelet as jax_from_freq_to_wavelet,\n",
    ")\n",
    "from pywavelet.transforms.jax import (\n",
    "    from_wavelet_to_freq as jax_from_wavelet_to_freq,\n",
    ")\n",
    "\n",
    "jax_h_wavelet = jax_from_freq_to_wavelet(h_freq, Nf=Nf, Nt=Nt)\n",
    "jax_h_reconstructed = jax_from_wavelet_to_freq(h_wavelet, dt=dt)\n",
    "plot(\n",
    "    h_freq, jax_h_reconstructed, jax_h_wavelet, title=\"JAX Roundtrip\"\n",
    ")"
   ],
   "id": "c302be21b9b2c909",
   "outputs": [],
   "execution_count": 26
  },
  {
   "metadata": {},
   "cell_type": "markdown",
   "source": "**Using CuPy**",
   "id": "1327e7112d6985df"
  },
  {
   "metadata": {
    "ExecuteTime": {
     "end_time": "2025-05-27T07:27:37.736124Z",
     "start_time": "2025-05-27T07:27:37.667676Z"
    }
   },
   "cell_type": "code",
   "source": [
    "from pywavelet.backend import cuda_is_available\n",
    "\n",
    "if not cuda_is_available():\n",
    "    raise RuntimeError(\"CuPy backend is not available. Please install CuPy with CUDA support.\")\n",
    "\n",
    "from pywavelet.transforms.cupy import (\n",
    "    from_freq_to_wavelet as cp_from_freq_to_wavelet,\n",
    ")\n",
    "from pywavelet.transforms.cupy import (\n",
    "    from_wavelet_to_freq as cp_from_wavelet_to_freq,\n",
    ")\n",
    "\n",
    "cp_h_wavelet = cp_from_freq_to_wavelet(h_freq, Nf=Nf, Nt=Nt)\n",
    "cp_h_reconstructed = cp_from_wavelet_to_freq(h_wavelet, dt=dt)\n",
    "plot(h_freq, cp_h_reconstructed, cp_h_wavelet, title=\"CuPy Roundtrip\")"
   ],
   "id": "eeea2fda213a9900",
   "outputs": [
    {
     "ename": "RuntimeError",
     "evalue": "CuPy backend is not available. Please install CuPy with CUDA support.",
     "output_type": "error",
     "traceback": [
      "\u001B[0;31m---------------------------------------------------------------------------\u001B[0m",
      "\u001B[0;31mRuntimeError\u001B[0m                              Traceback (most recent call last)",
      "Cell \u001B[0;32mIn[38], line 4\u001B[0m\n\u001B[1;32m      1\u001B[0m \u001B[38;5;28;01mfrom\u001B[39;00m \u001B[38;5;21;01mpywavelet\u001B[39;00m\u001B[38;5;21;01m.\u001B[39;00m\u001B[38;5;21;01mbackend\u001B[39;00m \u001B[38;5;28;01mimport\u001B[39;00m cuda_is_available\n\u001B[1;32m      3\u001B[0m \u001B[38;5;28;01mif\u001B[39;00m \u001B[38;5;129;01mnot\u001B[39;00m cuda_is_available():\n\u001B[0;32m----> 4\u001B[0m     \u001B[38;5;28;01mraise\u001B[39;00m \u001B[38;5;167;01mRuntimeError\u001B[39;00m(\u001B[38;5;124m\"\u001B[39m\u001B[38;5;124mCuPy backend is not available. Please install CuPy with CUDA support.\u001B[39m\u001B[38;5;124m\"\u001B[39m)\n\u001B[1;32m      6\u001B[0m \u001B[38;5;28;01mfrom\u001B[39;00m \u001B[38;5;21;01mpywavelet\u001B[39;00m\u001B[38;5;21;01m.\u001B[39;00m\u001B[38;5;21;01mtransforms\u001B[39;00m\u001B[38;5;21;01m.\u001B[39;00m\u001B[38;5;21;01mcupy\u001B[39;00m \u001B[38;5;28;01mimport\u001B[39;00m (\n\u001B[1;32m      7\u001B[0m     from_freq_to_wavelet \u001B[38;5;28;01mas\u001B[39;00m cp_from_freq_to_wavelet,\n\u001B[1;32m      8\u001B[0m )\n\u001B[1;32m      9\u001B[0m \u001B[38;5;28;01mfrom\u001B[39;00m \u001B[38;5;21;01mpywavelet\u001B[39;00m\u001B[38;5;21;01m.\u001B[39;00m\u001B[38;5;21;01mtransforms\u001B[39;00m\u001B[38;5;21;01m.\u001B[39;00m\u001B[38;5;21;01mcupy\u001B[39;00m \u001B[38;5;28;01mimport\u001B[39;00m (\n\u001B[1;32m     10\u001B[0m     from_wavelet_to_freq \u001B[38;5;28;01mas\u001B[39;00m cp_from_wavelet_to_freq,\n\u001B[1;32m     11\u001B[0m )\n",
      "\u001B[0;31mRuntimeError\u001B[0m: CuPy backend is not available. Please install CuPy with CUDA support."
     ]
    }
   ],
   "execution_count": 38
  },
  {
   "metadata": {},
   "cell_type": "markdown",
   "source": [
    "| Backend | Roundtrip Plot |\n",
    "|:---:|:---:|\n",
    "| NumPy | ![NumPy Roundtrip][numpy] |\n",
    "| JAX | ![JAX Roundtrip][jax] |\n",
    "| CuPy | ![CuPy Roundtrip][cupy] |\n",
    "\n",
    "\n",
    " \n",
    "[jax]: backend_plots/JAX_Roundtrip.png\n",
    "[numpy]: backend_plots/NumPy_Roundtrip.png\n",
    "[cupy]: backend_plots/CuPy_Roundtrip.png "
   ],
   "id": "6abd1626d74af2dc"
  },
  {
   "metadata": {},
   "cell_type": "markdown",
   "source": "## Noise robustness",
   "id": "d0770e347d2994f9"
  },
  {
   "metadata": {
    "ExecuteTime": {
     "end_time": "2025-05-27T07:53:34.223667Z",
     "start_time": "2025-05-27T07:53:33.964694Z"
    }
   },
   "cell_type": "code",
   "source": [
    "import numpy as np\n",
    "from pywavelet.types import TimeSeries, FrequencySeries\n",
    "\n",
    "np.random.seed(42)  # For reproducibility\n",
    "\n",
    "\n",
    "def generate_white_noise(N: int = 2048, scale: float = 1.0) -> FrequencySeries:\n",
    "    \"\"\"Generate white noise time series.\"\"\"\n",
    "    noise = np.random.normal(0, scale, N)\n",
    "    return TimeSeries(data=noise, time=np.arange(N)).to_frequencyseries()\n",
    "\n",
    "\n",
    "datasets = [generate_white_noise() for _ in range(100)]\n",
    "\n",
    "\n",
    "def get_residuals(datasets, forward_transform, inverse_transform, Nf=32):\n",
    "    mse = np.zeros(len(datasets))\n",
    "    for i, h_freq in enumerate(datasets):\n",
    "        h_wavelet = forward_transform(h_freq, Nf=Nf)\n",
    "        h_reconstructed = inverse_transform(h_wavelet, dt=h_time.dt)\n",
    "        mse[i] = get_mse(h_freq, h_reconstructed)\n",
    "\n",
    "    return mse\n",
    "\n",
    "\n",
    "def get_mse(f1, f2):\n",
    "    \"\"\"Calculate Mean Squared Error between two frequency series.\"\"\"\n",
    "    return float(np.mean(np.abs(f1.data - f2.data) ** 2))\n",
    "\n",
    "numpy_mses = get_residuals(\n",
    "    datasets,\n",
    "    from_freq_to_wavelet,\n",
    "    from_wavelet_to_freq\n",
    ")\n",
    "\n",
    "jax_mses = get_residuals(\n",
    "    datasets,\n",
    "    jax_from_freq_to_wavelet,\n",
    "    jax_from_wavelet_to_freq\n",
    ")\n",
    "\n",
    "if cuda_is_available():\n",
    "    from pywavelet.transforms.cupy import (\n",
    "        from_freq_to_wavelet as cp_from_freq_to_wavelet,\n",
    "    )\n",
    "    from pywavelet.transforms.cupy import (\n",
    "        from_wavelet_to_freq as cp_from_wavelet_to_freq,\n",
    "    )\n",
    "\n",
    "    cp_mses = get_residuals(\n",
    "        datasets,\n",
    "        cp_from_freq_to_wavelet,\n",
    "        cp_from_wavelet_to_freq\n",
    "    )\n",
    "else:\n",
    "    cp_mses = None"
   ],
   "id": "c43e75ca51fcc120",
   "outputs": [],
   "execution_count": 82
  },
  {
   "metadata": {
    "ExecuteTime": {
     "end_time": "2025-05-27T07:53:40.990694Z",
     "start_time": "2025-05-27T07:53:40.800223Z"
    }
   },
   "cell_type": "code",
   "source": [
    "# violin plot of MSEs\n",
    "import matplotlib.pyplot as plt\n",
    "\n",
    "fig, ax = plt.subplots(figsize=(8, 6))\n",
    "ax.violinplot(\n",
    "    [numpy_mses, jax_mses] + ([cp_mses] if cp_mses is not None else []),\n",
    "    showmeans=True,\n",
    "    showextrema=True,\n",
    "    widths=0.8\n",
    ")\n",
    "ax.set_xticks([1, 2] + ([3] if cp_mses is not None else []))\n",
    "ax.set_xticklabels(\n",
    "    [\"NumPy\", \"JAX\"] + ([\"CuPy\"] if cp_mses is not None else [])\n",
    ")\n"
   ],
   "id": "509a6eeee4eb6058",
   "outputs": [
    {
     "data": {
      "text/plain": [
       "[Text(1, 0, 'NumPy'), Text(2, 0, 'JAX')]"
      ]
     },
     "execution_count": 83,
     "metadata": {},
     "output_type": "execute_result"
    },
    {
     "data": {
      "text/plain": [
       "<Figure size 800x600 with 1 Axes>"
      ],
      "image/png": "[encoded data removed]"
     },
     "metadata": {},
     "output_type": "display_data"
    }
   ],
   "execution_count": 83
  },
  {
   "metadata": {
    "ExecuteTime": {
     "end_time": "2025-05-27T07:53:45.054151Z",
     "start_time": "2025-05-27T07:53:42.695615Z"
    }
   },
   "cell_type": "code",
   "source": [
    "# get max idx of jax_mses\n",
    "max_idx = int(np.argmax(jax_mses))\n",
    "\n",
    "\n",
    "Nf = 32\n",
    "hfreq = datasets[max_idx]\n",
    "wnm = from_freq_to_wavelet(hfreq, Nf=Nf)\n",
    "hrecon = from_wavelet_to_freq(wnm, dt=hfreq.dt)\n",
    "plot(\n",
    "    hfreq, hrecon, wnm, title=\"White Noise Roundtrip (NumPy)\"\n",
    ")\n",
    "get_mse(hfreq, hrecon)  # Print MSE for NumPy roundtrip"
   ],
   "id": "d4096af880ca5774",
   "outputs": [
    {
     "data": {
      "text/plain": [
       "1.6673454742985615e-28"
      ]
     },
     "execution_count": 84,
     "metadata": {},
     "output_type": "execute_result"
    }
   ],
   "execution_count": 84
  },
  {
   "metadata": {
    "ExecuteTime": {
     "end_time": "2025-05-27T07:54:01.031288Z",
     "start_time": "2025-05-27T07:53:58.360328Z"
    }
   },
   "cell_type": "code",
   "source": [
    "wnm_jax = jax_from_freq_to_wavelet(hfreq, Nf=Nf)\n",
    "hrecon_jax = jax_from_wavelet_to_freq(wnm_jax, dt=hfreq.dt)\n",
    "plot(\n",
    "    hfreq, hrecon_jax, wnm_jax, title=\"White Noise Roundtrip (Jax)\"\n",
    ")\n",
    "print(get_mse(hfreq, hrecon_jax))  # Print MSE for JAX roundtrip\n",
    "\n",
    "print(\"expected MSE for jax roundtrip:\", jax_mses[max_idx])"
   ],
   "id": "aca50ba5234b7cd0",
   "outputs": [
    {
     "name": "stdout",
     "output_type": "stream",
     "text": [
      "12.848047201614534\n",
      "expected MSE for jax roundtrip: 12.848047201614534\n"
     ]
    }
   ],
   "execution_count": 86
  },
  {
   "metadata": {
    "ExecuteTime": {
     "end_time": "2025-05-27T07:54:03.735096Z",
     "start_time": "2025-05-27T07:54:03.248681Z"
    }
   },
   "cell_type": "code",
   "source": [
    "fig, ax = plt.subplots(2, 1, figsize=(4, 6), sharex=True)\n",
    "\n",
    "hfreq.plot_periodogram(ax=ax[0], color=\"black\", label=\"Original\")\n",
    "hrecon_jax.plot_periodogram(ax=ax[0], ls=\"--\", color=\"red\", label=\"Reconstructed\")\n",
    "ax[0].set_xscale(\"linear\")\n",
    "ax[0].set_xlim(-0.1, 0.6)\n",
    "ax[0].legend()\n",
    "\n",
    "resid = np.abs(hfreq.data - hrecon_jax.data)\n",
    "mse = np.mean(resid ** 2)\n",
    "ax[1].plot(hfreq.freq, resid, label=f\"MSE: {mse:.2E}\", color=\"black\")\n",
    "ax[1].legend()\n",
    "\n",
    "\n",
    "for a in ax:\n",
    "    a.set_xlabel(\"Frequency (Hz)\")\n",
    "    a.set_ylabel(\"Amplitude\")\n",
    "    a.set_xscale(\"linear\")\n",
    "    a.set_yscale(\"linear\")\n"
   ],
   "id": "7444cb0d5b74564f",
   "outputs": [
    {
     "data": {
      "text/plain": [
       "<Figure size 400x600 with 2 Axes>"
      ],
      "image/png": "[encoded data removed]"
     },
     "metadata": {},
     "output_type": "display_data"
    }
   ],
   "execution_count": 87
  },
  {
   "metadata": {
    "ExecuteTime": {
     "end_time": "2025-05-27T07:50:23.892525Z",
     "start_time": "2025-05-27T07:50:23.850671Z"
    }
   },
   "cell_type": "code",
   "source": "jax_mses",
   "id": "9ab03e2deacf7c98",
   "outputs": [
    {
     "data": {
      "text/plain": [
       "array([ 7.1784282 ,  0.3412282 ,  6.3819535 ,  1.2144013 ,  0.27462733,\n",
       "        0.69190458,  3.96882098,  1.15552238,  8.02882568,  0.54390046,\n",
       "        4.83262299,  0.84444492,  2.00600982,  4.17576642,  2.29021299,\n",
       "        7.46416844,  1.16827308,  1.69226423,  6.89086171, 11.26142015,\n",
       "        5.04840592,  2.44840229,  0.56005081,  1.68539507,  0.50346409,\n",
       "        3.09320849,  1.54600895,  5.47859933,  0.71958427,  7.82962478,\n",
       "        5.364825  ,  5.10632507,  4.00478622,  1.29929241,  9.06782523,\n",
       "       12.8480472 ,  3.02445406,  3.57816182,  2.71404353,  6.5743191 ,\n",
       "        0.72477852,  2.02846712,  0.71753285,  0.51137052,  0.70260112,\n",
       "        0.79245948,  0.70608546,  8.537481  ,  3.36002486,  0.24922118,\n",
       "        2.01446913,  6.55748283, 10.42802756,  5.46988332,  1.17754993,\n",
       "        8.85866947,  1.11015473,  1.13743951,  4.99735251,  0.17427547,\n",
       "        3.44563637,  4.06446234,  1.89372023,  1.29761254,  0.77087475,\n",
       "        5.84211759,  0.29049541,  3.08546068,  0.91993828, 10.99750455,\n",
       "        3.82647106,  0.25508863, 11.41751324,  3.86489681,  1.49654306,\n",
       "        8.4393253 , 11.77574303,  1.44347973,  7.31852572,  2.78561988,\n",
       "        6.13839499,  0.33803385,  0.23393697,  0.224426  ,  0.19214557,\n",
       "        2.78211587,  3.58015464,  7.8736174 ,  0.15675548,  4.24489568,\n",
       "        0.96985675, 11.70232291,  1.36950606,  1.34719813,  4.78999754,\n",
       "        4.02200797,  0.47775533,  0.0580099 ,  6.84594453,  1.96714212])"
      ]
     },
     "execution_count": 71,
     "metadata": {},
     "output_type": "execute_result"
    }
   ],
   "execution_count": 71
  },
  {
   "metadata": {
    "ExecuteTime": {
     "end_time": "2025-05-27T07:50:34.154835Z",
     "start_time": "2025-05-27T07:50:34.111530Z"
    }
   },
   "cell_type": "code",
   "source": "numpy_mses",
   "id": "c4178ec81bab70a4",
   "outputs": [
    {
     "data": {
      "text/plain": [
       "array([1.56234228e-28, 1.57258746e-28, 1.66723035e-28, 1.76215346e-28,\n",
       "       1.53404667e-28, 1.56837822e-28, 1.65632604e-28, 1.54706616e-28,\n",
       "       1.65438593e-28, 1.63811294e-28, 1.54475179e-28, 1.54724007e-28,\n",
       "       1.58555311e-28, 1.59483637e-28, 1.69603676e-28, 1.64195609e-28,\n",
       "       1.81804776e-28, 1.61780505e-28, 1.47562665e-28, 1.50028632e-28,\n",
       "       1.79575605e-28, 1.42717436e-28, 1.72361064e-28, 1.74955585e-28,\n",
       "       1.63744149e-28, 1.56012651e-28, 1.61206537e-28, 1.68867588e-28,\n",
       "       1.56898742e-28, 1.76253080e-28, 1.56226684e-28, 1.46729010e-28,\n",
       "       1.41967929e-28, 1.47546484e-28, 1.55150127e-28, 1.66734547e-28,\n",
       "       1.72207730e-28, 1.67879112e-28, 1.64378918e-28, 1.60704920e-28,\n",
       "       1.60854996e-28, 1.51156163e-28, 1.69385802e-28, 1.54280096e-28,\n",
       "       1.51715712e-28, 1.62576714e-28, 1.68348320e-28, 1.56597293e-28,\n",
       "       1.61650211e-28, 1.50736414e-28, 1.73829863e-28, 1.54307886e-28,\n",
       "       1.71383423e-28, 1.59127406e-28, 1.52755456e-28, 1.49468120e-28,\n",
       "       1.63545586e-28, 1.56548607e-28, 1.75022376e-28, 1.58873796e-28,\n",
       "       1.56484364e-28, 1.56518385e-28, 1.62562278e-28, 1.47225198e-28,\n",
       "       1.61673487e-28, 1.62825064e-28, 1.61562490e-28, 1.56939615e-28,\n",
       "       1.61364722e-28, 1.58034165e-28, 1.53881588e-28, 1.53169516e-28,\n",
       "       1.48258314e-28, 1.53894260e-28, 1.65770833e-28, 1.52322429e-28,\n",
       "       1.56470284e-28, 1.57572916e-28, 1.52370007e-28, 1.58665344e-28,\n",
       "       1.51740639e-28, 1.62929681e-28, 1.48518210e-28, 1.66369574e-28,\n",
       "       1.57135381e-28, 1.66025900e-28, 1.56898502e-28, 1.54414182e-28,\n",
       "       1.55052175e-28, 1.65289556e-28, 1.60333753e-28, 1.67697215e-28,\n",
       "       1.55616480e-28, 1.64529068e-28, 1.54766212e-28, 1.60022160e-28,\n",
       "       1.55711390e-28, 1.50126363e-28, 1.65463629e-28, 1.58123941e-28])"
      ]
     },
     "execution_count": 72,
     "metadata": {},
     "output_type": "execute_result"
    }
   ],
   "execution_count": 72
  },
  {
   "metadata": {},
   "cell_type": "code",
   "outputs": [],
   "execution_count": null,
   "source": "",
   "id": "a1d20e744e9edb7f"
  }
 ],
 "metadata": {
  "kernelspec": {
   "display_name": "Python 3",
   "language": "python",
   "name": "python3"
  },
  "language_info": {
   "codemirror_mode": {
    "name": "ipython",
    "version": 2
   },
   "file_extension": ".py",
   "mimetype": "text/x-python",
   "name": "python",
   "nbconvert_exporter": "python",
   "pygments_lexer": "ipython2",
   "version": "2.7.6"
  }
 },
 "nbformat": 4,
 "nbformat_minor": 5
}
